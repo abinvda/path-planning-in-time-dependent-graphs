{
 "cells": [
  {
   "cell_type": "code",
   "execution_count": null,
   "metadata": {},
   "outputs": [],
   "source": [
    "import matplotlib.pyplot as plt\n",
    "import scienceplots\n",
    "import pandas as pd\n",
    "import matplotlib.cm as cm\n",
    "import numpy as np\n",
    "# import altair as alt\n",
    "\n",
    "plt.style.use('ieee')\n",
    "\n"
   ]
  },
  {
   "cell_type": "code",
   "execution_count": null,
   "metadata": {},
   "outputs": [],
   "source": [
    "opt = np.random.randint(600, size=(200))\n",
    "gree = opt*(1+np.random.rand(200))\n",
    "\n",
    "# plt.plot(opt, gree, 'o')\n",
    "plt.scatter(opt, gree, s=10)\n",
    "plt.plot(gree, gree)\n",
    "# plt.axis('equal')\n",
    "plt.xlim([0, 1120])\n",
    "plt.ylim([0, 1120])\n",
    "plt.xlabel(\"Optimal Path Duration (min)\")\n",
    "plt.ylabel(\"Greedy Path Duration (min)\")\n",
    "\n",
    "plt.show()"
   ]
  },
  {
   "cell_type": "code",
   "execution_count": null,
   "metadata": {},
   "outputs": [],
   "source": [
    "df1=pd.DataFrame(10*np.random.rand(4,3),index=[\"A\",\"B\",\"C\",\"D\"],columns=[\"I\",\"J\",\"K\"])\n",
    "df2=pd.DataFrame(10*np.random.rand(4,3),index=[\"A\",\"B\",\"C\",\"D\"],columns=[\"I\",\"J\",\"K\"])\n",
    "df3=pd.DataFrame(10*np.random.rand(4,3),index=[\"A\",\"B\",\"C\",\"D\"],columns=[\"I\",\"J\",\"K\"])\n",
    "\n",
    "def prep_df(df, name):\n",
    "    df = df.stack().reset_index()\n",
    "    df.columns = ['c1', 'c2', 'values']\n",
    "    df['DF'] = name\n",
    "    return df\n",
    "\n",
    "df1 = prep_df(df1, 'DF1')\n",
    "df2 = prep_df(df2, 'DF2')\n",
    "df3 = prep_df(df3, 'DF3')\n",
    "\n",
    "df = pd.concat([df1, df2, df3])"
   ]
  },
  {
   "cell_type": "code",
   "execution_count": null,
   "metadata": {},
   "outputs": [],
   "source": [
    "alt.Chart(df).mark_bar().encode(\n",
    "\n",
    "    # tell Altair which field to group columns on\n",
    "    x=alt.X('c2:N', title=None),\n",
    "\n",
    "    # tell Altair which field to use as Y values and how to calculate\n",
    "    y=alt.Y('sum(values):Q',\n",
    "        axis=alt.Axis(\n",
    "            grid=False,\n",
    "            title=None)),\n",
    "\n",
    "    # tell Altair which field to use to use as the set of columns to be  represented in each group\n",
    "    column=alt.Column('c1:N', title=None),\n",
    "\n",
    "    # tell Altair which field to use for color segmentation \n",
    "    color=alt.Color('DF:N',\n",
    "            scale=alt.Scale(\n",
    "                # make it look pretty with an enjoyable color pallet\n",
    "                range=['#96ceb4', '#ffcc5c','#ff6f69'],\n",
    "            ),\n",
    "        ))\\\n",
    "    .configure_view(\n",
    "        # remove grid lines around column clusters\n",
    "        strokeOpacity=0    \n",
    "    )"
   ]
  }
 ],
 "metadata": {
  "kernelspec": {
   "display_name": "Python 3.7.4 ('base')",
   "language": "python",
   "name": "python3"
  },
  "language_info": {
   "codemirror_mode": {
    "name": "ipython",
    "version": 3
   },
   "file_extension": ".py",
   "mimetype": "text/x-python",
   "name": "python",
   "nbconvert_exporter": "python",
   "pygments_lexer": "ipython3",
   "version": "3.10.9"
  },
  "orig_nbformat": 4,
  "vscode": {
   "interpreter": {
    "hash": "f29edd0ea94a059367e2a98a63918c3e6319f987fd63944e5f0e673024d9390b"
   }
  }
 },
 "nbformat": 4,
 "nbformat_minor": 2
}
